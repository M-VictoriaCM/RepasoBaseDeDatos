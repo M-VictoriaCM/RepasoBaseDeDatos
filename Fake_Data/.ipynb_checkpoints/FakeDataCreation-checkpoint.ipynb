{
 "cells": [
  {
   "cell_type": "markdown",
   "id": "4e8917c6-fffb-4afe-af76-be243f4d0b58",
   "metadata": {},
   "source": [
    "# CREAR FAKE DATA"
   ]
  },
  {
   "cell_type": "markdown",
   "id": "37b85fec-be6f-44c3-9269-bf90fb23d645",
   "metadata": {},
   "source": [
    "## IMPORTAR"
   ]
  },
  {
   "cell_type": "code",
   "execution_count": 30,
   "id": "214b379c-e91c-41ba-b91f-1c2eae4fbaa4",
   "metadata": {},
   "outputs": [],
   "source": [
    "import pandas as pd\n",
    "from faker import Faker\n",
    "import random\n",
    "import datetime\n",
    "import os\n",
    "\n",
    "faker = Faker(locale = 'es')"
   ]
  },
  {
   "cell_type": "markdown",
   "id": "d2bdcd55-c976-459d-a8bf-99eff5e1fbe3",
   "metadata": {},
   "source": [
    "## CONTINENTES"
   ]
  },
  {
   "cell_type": "code",
   "execution_count": 2,
   "id": "c00bdbd1-ff7c-4a0e-9a58-9037965a12ce",
   "metadata": {},
   "outputs": [
    {
     "data": {
      "text/html": [
       "<div>\n",
       "<style scoped>\n",
       "    .dataframe tbody tr th:only-of-type {\n",
       "        vertical-align: middle;\n",
       "    }\n",
       "\n",
       "    .dataframe tbody tr th {\n",
       "        vertical-align: top;\n",
       "    }\n",
       "\n",
       "    .dataframe thead th {\n",
       "        text-align: right;\n",
       "    }\n",
       "</style>\n",
       "<table border=\"1\" class=\"dataframe\">\n",
       "  <thead>\n",
       "    <tr style=\"text-align: right;\">\n",
       "      <th></th>\n",
       "      <th>id_continente</th>\n",
       "      <th>continente</th>\n",
       "    </tr>\n",
       "  </thead>\n",
       "  <tbody>\n",
       "    <tr>\n",
       "      <th>0</th>\n",
       "      <td>1</td>\n",
       "      <td>América del Norte</td>\n",
       "    </tr>\n",
       "    <tr>\n",
       "      <th>1</th>\n",
       "      <td>2</td>\n",
       "      <td>América del Sur</td>\n",
       "    </tr>\n",
       "    <tr>\n",
       "      <th>2</th>\n",
       "      <td>3</td>\n",
       "      <td>Europa</td>\n",
       "    </tr>\n",
       "    <tr>\n",
       "      <th>3</th>\n",
       "      <td>4</td>\n",
       "      <td>África</td>\n",
       "    </tr>\n",
       "    <tr>\n",
       "      <th>4</th>\n",
       "      <td>5</td>\n",
       "      <td>Asia</td>\n",
       "    </tr>\n",
       "    <tr>\n",
       "      <th>5</th>\n",
       "      <td>6</td>\n",
       "      <td>Oceanía</td>\n",
       "    </tr>\n",
       "  </tbody>\n",
       "</table>\n",
       "</div>"
      ],
      "text/plain": [
       "   id_continente         continente\n",
       "0              1  América del Norte\n",
       "1              2    América del Sur\n",
       "2              3             Europa\n",
       "3              4             África\n",
       "4              5               Asia\n",
       "5              6            Oceanía"
      ]
     },
     "execution_count": 2,
     "metadata": {},
     "output_type": "execute_result"
    }
   ],
   "source": [
    "continentes = [\n",
    "    {\"id_continente\": 1, \"continente\": \"América del Norte\"},\n",
    "    {\"id_continente\": 2, \"continente\": \"América del Sur\"},\n",
    "    {\"id_continente\": 3, \"continente\": \"Europa\"},\n",
    "    {\"id_continente\": 4, \"continente\": \"África\"},\n",
    "    {\"id_continente\": 5, \"continente\": \"Asia\"},\n",
    "    {\"id_continente\": 6, \"continente\": \"Oceanía\"}\n",
    "]\n",
    "\n",
    "df_continentes = pd.DataFrame(continentes)\n",
    "\n",
    "df_continentes"
   ]
  },
  {
   "cell_type": "markdown",
   "id": "c99aa2a4-a560-4bc1-b590-9357428c2b32",
   "metadata": {},
   "source": [
    "## PAISES"
   ]
  },
  {
   "cell_type": "code",
   "execution_count": 3,
   "id": "31d8cf7f-3392-4a7a-bb31-a6944bb4a9e1",
   "metadata": {},
   "outputs": [
    {
     "data": {
      "text/html": [
       "<div>\n",
       "<style scoped>\n",
       "    .dataframe tbody tr th:only-of-type {\n",
       "        vertical-align: middle;\n",
       "    }\n",
       "\n",
       "    .dataframe tbody tr th {\n",
       "        vertical-align: top;\n",
       "    }\n",
       "\n",
       "    .dataframe thead th {\n",
       "        text-align: right;\n",
       "    }\n",
       "</style>\n",
       "<table border=\"1\" class=\"dataframe\">\n",
       "  <thead>\n",
       "    <tr style=\"text-align: right;\">\n",
       "      <th></th>\n",
       "      <th>id_pais</th>\n",
       "      <th>Continent</th>\n",
       "      <th>Country</th>\n",
       "    </tr>\n",
       "  </thead>\n",
       "  <tbody>\n",
       "    <tr>\n",
       "      <th>0</th>\n",
       "      <td>0</td>\n",
       "      <td>Africa</td>\n",
       "      <td>Algeria</td>\n",
       "    </tr>\n",
       "    <tr>\n",
       "      <th>1</th>\n",
       "      <td>1</td>\n",
       "      <td>Africa</td>\n",
       "      <td>Angola</td>\n",
       "    </tr>\n",
       "    <tr>\n",
       "      <th>2</th>\n",
       "      <td>2</td>\n",
       "      <td>Africa</td>\n",
       "      <td>Benin</td>\n",
       "    </tr>\n",
       "    <tr>\n",
       "      <th>3</th>\n",
       "      <td>3</td>\n",
       "      <td>Africa</td>\n",
       "      <td>Botswana</td>\n",
       "    </tr>\n",
       "    <tr>\n",
       "      <th>4</th>\n",
       "      <td>4</td>\n",
       "      <td>Africa</td>\n",
       "      <td>Burkina</td>\n",
       "    </tr>\n",
       "  </tbody>\n",
       "</table>\n",
       "</div>"
      ],
      "text/plain": [
       "   id_pais Continent   Country\n",
       "0        0    Africa   Algeria\n",
       "1        1    Africa    Angola\n",
       "2        2    Africa     Benin\n",
       "3        3    Africa  Botswana\n",
       "4        4    Africa   Burkina"
      ]
     },
     "execution_count": 3,
     "metadata": {},
     "output_type": "execute_result"
    }
   ],
   "source": [
    "df_paises = pd.read_csv(\"countries_unprocessed.csv\", sep=\",\")\n",
    "df_paises.reset_index(inplace=True)\n",
    "df_paises.rename(columns={'index': 'id_pais'}, inplace=True)\n",
    "df_paises.head(5)\n"
   ]
  },
  {
   "cell_type": "code",
   "execution_count": 4,
   "id": "04ce942d-2a54-416d-ae69-a81a6bbf8ab3",
   "metadata": {},
   "outputs": [
    {
     "data": {
      "text/plain": [
       "array(['Africa', 'Asia', 'Europe', 'North America', 'Oceania',\n",
       "       'South America'], dtype=object)"
      ]
     },
     "execution_count": 4,
     "metadata": {},
     "output_type": "execute_result"
    }
   ],
   "source": [
    "df_paises.Continent.unique()"
   ]
  },
  {
   "cell_type": "code",
   "execution_count": 5,
   "id": "cffb3553-b003-419e-a9cf-8a4884fe010d",
   "metadata": {},
   "outputs": [
    {
     "data": {
      "text/html": [
       "<div>\n",
       "<style scoped>\n",
       "    .dataframe tbody tr th:only-of-type {\n",
       "        vertical-align: middle;\n",
       "    }\n",
       "\n",
       "    .dataframe tbody tr th {\n",
       "        vertical-align: top;\n",
       "    }\n",
       "\n",
       "    .dataframe thead th {\n",
       "        text-align: right;\n",
       "    }\n",
       "</style>\n",
       "<table border=\"1\" class=\"dataframe\">\n",
       "  <thead>\n",
       "    <tr style=\"text-align: right;\">\n",
       "      <th></th>\n",
       "      <th>id_pais</th>\n",
       "      <th>id_continente</th>\n",
       "      <th>nombre_pais</th>\n",
       "    </tr>\n",
       "  </thead>\n",
       "  <tbody>\n",
       "    <tr>\n",
       "      <th>0</th>\n",
       "      <td>0</td>\n",
       "      <td>Africa</td>\n",
       "      <td>Algeria</td>\n",
       "    </tr>\n",
       "    <tr>\n",
       "      <th>1</th>\n",
       "      <td>1</td>\n",
       "      <td>Africa</td>\n",
       "      <td>Angola</td>\n",
       "    </tr>\n",
       "    <tr>\n",
       "      <th>2</th>\n",
       "      <td>2</td>\n",
       "      <td>Africa</td>\n",
       "      <td>Benin</td>\n",
       "    </tr>\n",
       "    <tr>\n",
       "      <th>3</th>\n",
       "      <td>3</td>\n",
       "      <td>Africa</td>\n",
       "      <td>Botswana</td>\n",
       "    </tr>\n",
       "    <tr>\n",
       "      <th>4</th>\n",
       "      <td>4</td>\n",
       "      <td>Africa</td>\n",
       "      <td>Burkina</td>\n",
       "    </tr>\n",
       "  </tbody>\n",
       "</table>\n",
       "</div>"
      ],
      "text/plain": [
       "   id_pais id_continente nombre_pais\n",
       "0        0        Africa     Algeria\n",
       "1        1        Africa      Angola\n",
       "2        2        Africa       Benin\n",
       "3        3        Africa    Botswana\n",
       "4        4        Africa     Burkina"
      ]
     },
     "execution_count": 5,
     "metadata": {},
     "output_type": "execute_result"
    }
   ],
   "source": [
    "df_paises.rename(columns = {'Continent':'id_continente', 'Country':'nombre_pais'}, inplace = True) \n",
    "df_paises.head(5)"
   ]
  },
  {
   "cell_type": "code",
   "execution_count": 6,
   "id": "6cc43eea-84a1-4e7d-8e0e-232a4f53a7f2",
   "metadata": {},
   "outputs": [],
   "source": [
    "mapping = {\n",
    "    \"North America\": 1,\n",
    "    \"South America\": 2,\n",
    "    \"Europe\": 3,\n",
    "    \"Africa\": 4,\n",
    "    \"Asia\": 5,\n",
    "    \"Oceania\": 6\n",
    "}"
   ]
  },
  {
   "cell_type": "code",
   "execution_count": 7,
   "id": "411de2d5-ad47-476c-b8ab-e2c6ca2ff969",
   "metadata": {},
   "outputs": [
    {
     "name": "stderr",
     "output_type": "stream",
     "text": [
      "C:\\Users\\andre\\AppData\\Local\\Temp\\ipykernel_5664\\1492613320.py:1: FutureWarning: Downcasting behavior in `replace` is deprecated and will be removed in a future version. To retain the old behavior, explicitly call `result.infer_objects(copy=False)`. To opt-in to the future behavior, set `pd.set_option('future.no_silent_downcasting', True)`\n",
      "  df_paises[\"id_continente\"] = df_paises[\"id_continente\"].replace(mapping).infer_objects(copy=False)\n"
     ]
    },
    {
     "data": {
      "text/html": [
       "<div>\n",
       "<style scoped>\n",
       "    .dataframe tbody tr th:only-of-type {\n",
       "        vertical-align: middle;\n",
       "    }\n",
       "\n",
       "    .dataframe tbody tr th {\n",
       "        vertical-align: top;\n",
       "    }\n",
       "\n",
       "    .dataframe thead th {\n",
       "        text-align: right;\n",
       "    }\n",
       "</style>\n",
       "<table border=\"1\" class=\"dataframe\">\n",
       "  <thead>\n",
       "    <tr style=\"text-align: right;\">\n",
       "      <th></th>\n",
       "      <th>id_pais</th>\n",
       "      <th>id_continente</th>\n",
       "      <th>nombre_pais</th>\n",
       "    </tr>\n",
       "  </thead>\n",
       "  <tbody>\n",
       "    <tr>\n",
       "      <th>0</th>\n",
       "      <td>0</td>\n",
       "      <td>4</td>\n",
       "      <td>Algeria</td>\n",
       "    </tr>\n",
       "    <tr>\n",
       "      <th>1</th>\n",
       "      <td>1</td>\n",
       "      <td>4</td>\n",
       "      <td>Angola</td>\n",
       "    </tr>\n",
       "    <tr>\n",
       "      <th>2</th>\n",
       "      <td>2</td>\n",
       "      <td>4</td>\n",
       "      <td>Benin</td>\n",
       "    </tr>\n",
       "    <tr>\n",
       "      <th>3</th>\n",
       "      <td>3</td>\n",
       "      <td>4</td>\n",
       "      <td>Botswana</td>\n",
       "    </tr>\n",
       "    <tr>\n",
       "      <th>4</th>\n",
       "      <td>4</td>\n",
       "      <td>4</td>\n",
       "      <td>Burkina</td>\n",
       "    </tr>\n",
       "    <tr>\n",
       "      <th>...</th>\n",
       "      <td>...</td>\n",
       "      <td>...</td>\n",
       "      <td>...</td>\n",
       "    </tr>\n",
       "    <tr>\n",
       "      <th>191</th>\n",
       "      <td>191</td>\n",
       "      <td>2</td>\n",
       "      <td>Paraguay</td>\n",
       "    </tr>\n",
       "    <tr>\n",
       "      <th>192</th>\n",
       "      <td>192</td>\n",
       "      <td>2</td>\n",
       "      <td>Peru</td>\n",
       "    </tr>\n",
       "    <tr>\n",
       "      <th>193</th>\n",
       "      <td>193</td>\n",
       "      <td>2</td>\n",
       "      <td>Suriname</td>\n",
       "    </tr>\n",
       "    <tr>\n",
       "      <th>194</th>\n",
       "      <td>194</td>\n",
       "      <td>2</td>\n",
       "      <td>Uruguay</td>\n",
       "    </tr>\n",
       "    <tr>\n",
       "      <th>195</th>\n",
       "      <td>195</td>\n",
       "      <td>2</td>\n",
       "      <td>Venezuela</td>\n",
       "    </tr>\n",
       "  </tbody>\n",
       "</table>\n",
       "<p>196 rows × 3 columns</p>\n",
       "</div>"
      ],
      "text/plain": [
       "     id_pais  id_continente nombre_pais\n",
       "0          0              4     Algeria\n",
       "1          1              4      Angola\n",
       "2          2              4       Benin\n",
       "3          3              4    Botswana\n",
       "4          4              4     Burkina\n",
       "..       ...            ...         ...\n",
       "191      191              2    Paraguay\n",
       "192      192              2        Peru\n",
       "193      193              2    Suriname\n",
       "194      194              2     Uruguay\n",
       "195      195              2   Venezuela\n",
       "\n",
       "[196 rows x 3 columns]"
      ]
     },
     "execution_count": 7,
     "metadata": {},
     "output_type": "execute_result"
    }
   ],
   "source": [
    "df_paises[\"id_continente\"] = df_paises[\"id_continente\"].replace(mapping).infer_objects(copy=False)\n",
    "df_paises"
   ]
  },
  {
   "cell_type": "markdown",
   "id": "f81b7834-108d-40ca-9246-be672eec2ab8",
   "metadata": {},
   "source": [
    "## DIRECCION"
   ]
  },
  {
   "cell_type": "code",
   "execution_count": 8,
   "id": "111e7a2f-143d-4a06-b1b8-6d46a0a456ca",
   "metadata": {},
   "outputs": [
    {
     "name": "stdout",
     "output_type": "stream",
     "text": [
      "     id_direccion                      calle codigo_postal   provincia  \\\n",
      "0               0           Vial Iris Calvet         27062       Cádiz   \n",
      "1               1    Plaza Saturnina Barrios         20222      Teruel   \n",
      "2               2  Pasaje Herberto Fernández         38430  Las Palmas   \n",
      "3               3     Avenida de Martín Gual         03517      Cuenca   \n",
      "4               4       Paseo Natalia Agullo         34105     Melilla   \n",
      "..            ...                        ...           ...         ...   \n",
      "995           995    Camino de Miguela Reina         34310    Valencia   \n",
      "996           996     Calle Heriberto Amores         29177      Burgos   \n",
      "997           997            Ronda Eric Pont         16166      Murcia   \n",
      "998           998       Rambla Amado Torrens         36900    Alicante   \n",
      "999           999  Cuesta Marcelino Castillo         07517      Huesca   \n",
      "\n",
      "            pais  id_pais  \n",
      "0          Spain      141  \n",
      "1      Mauritius       32  \n",
      "2          Gabon       18  \n",
      "3         Jordan       70  \n",
      "4     Seychelles       41  \n",
      "..           ...      ...  \n",
      "995         Laos       76  \n",
      "996        Palau      177  \n",
      "997  North Korea       72  \n",
      "998   Micronesia      174  \n",
      "999   Tajikistan       92  \n",
      "\n",
      "[1000 rows x 6 columns]\n"
     ]
    }
   ],
   "source": [
    "rows = []\n",
    "for _ in range(1000):\n",
    "    id_direccion = _\n",
    "    calle = faker.street_name()\n",
    "    codigo_postal = faker.postcode()\n",
    "    provincia = faker.state()\n",
    "    pais_row = df_paises.sample(n=1)\n",
    "    pais_id = pais_row[\"id_pais\"].values[0]\n",
    "    pais_nombre = pais_row[\"nombre_pais\"].values[0]\n",
    "    rows.append({\n",
    "        \"id_direccion\": id_direccion,\n",
    "        \"calle\": calle,\n",
    "        \"codigo_postal\": codigo_postal,\n",
    "        \"provincia\": provincia,\n",
    "        \"pais\": pais_nombre,\n",
    "        \"id_pais\": pais_id\n",
    "    })\n",
    "\n",
    "df_direccion = pd.DataFrame(rows)\n",
    "\n",
    "print(df_direccion)"
   ]
  },
  {
   "cell_type": "markdown",
   "id": "84c4e7a3-b570-44d3-888f-9726c4c09eae",
   "metadata": {},
   "source": [
    "## INSTITUCIONES"
   ]
  },
  {
   "cell_type": "code",
   "execution_count": 9,
   "id": "8f1d6d11-cbe9-40e0-9e23-94efbf5a90df",
   "metadata": {},
   "outputs": [
    {
     "name": "stdout",
     "output_type": "stream",
     "text": [
      "     id_institucion                              nombre_institucion  \\\n",
      "0                 1                           Anglada y Mata S.Com.   \n",
      "1                 2                      Infante y asociados S.L.L.   \n",
      "2                 3                                Minería NTZ S.A.   \n",
      "3                 4                             Ricart y Gomez S.L.   \n",
      "4                 5                        Distribuciones XEDI S.L.   \n",
      "..              ...                                             ...   \n",
      "995             996            Alimentación del Mediterráneo S.Com.   \n",
      "996             997                  Claudio Morales Cornejo S.Com.   \n",
      "997             998  Comercializadora Vilaplana & Asociados S.Coop.   \n",
      "998             999                       Minería Inteligentes S.A.   \n",
      "999            1000             María Dolores Vargas Pelayo S.Coop.   \n",
      "\n",
      "     id_director  id_direccion  \n",
      "0             10           224  \n",
      "1            429           942  \n",
      "2            590            79  \n",
      "3           1000           927  \n",
      "4            483           577  \n",
      "..           ...           ...  \n",
      "995          638           959  \n",
      "996          403           723  \n",
      "997          936           168  \n",
      "998          678            54  \n",
      "999           53           108  \n",
      "\n",
      "[1000 rows x 4 columns]\n"
     ]
    }
   ],
   "source": [
    "num_instituciones = 1000  \n",
    "id_directores = list(range(1, num_instituciones + 1))\n",
    "id_direcciones = list(df_direccion[\"id_direccion\"])\n",
    "\n",
    "data = {\n",
    "    \"id_institucion\": list(range(1, num_instituciones + 1)),\n",
    "    \"nombre_institucion\": [faker.company() for _ in range(num_instituciones)],\n",
    "    \"id_director\": random.sample(id_directores, num_instituciones),\n",
    "    \"id_direccion\": random.sample(id_direcciones, num_instituciones)\n",
    "}\n",
    "\n",
    "df_institucion = pd.DataFrame(data)\n",
    "\n",
    "print(df_institucion)"
   ]
  },
  {
   "cell_type": "code",
   "execution_count": 17,
   "id": "52c5ec26-df5e-44ee-9cf0-efede06da9bd",
   "metadata": {},
   "outputs": [
    {
     "data": {
      "text/plain": [
       "1000"
      ]
     },
     "execution_count": 17,
     "metadata": {},
     "output_type": "execute_result"
    }
   ],
   "source": [
    "len(df_institucion.id_director.unique())"
   ]
  },
  {
   "cell_type": "code",
   "execution_count": 18,
   "id": "89945ac6-194d-4990-a397-f9c280d5a104",
   "metadata": {},
   "outputs": [
    {
     "data": {
      "text/plain": [
       "1000"
      ]
     },
     "execution_count": 18,
     "metadata": {},
     "output_type": "execute_result"
    }
   ],
   "source": [
    "len(df_institucion.id_direccion.unique())"
   ]
  },
  {
   "cell_type": "markdown",
   "id": "712c2c1d-abbd-4f31-9b4f-5757ddf59539",
   "metadata": {},
   "source": [
    "## TAREAS"
   ]
  },
  {
   "cell_type": "code",
   "execution_count": 20,
   "id": "c6080ec5-903b-426d-b7e7-8f5ecbb554b9",
   "metadata": {},
   "outputs": [
    {
     "name": "stdout",
     "output_type": "stream",
     "text": [
      "      id_tarea  min_horas  max_horas\n",
      "0   XBPSIEVT36          3        163\n",
      "1   SBSVRAJX26         14        177\n",
      "2   CXOOXSAG43         19        133\n",
      "3   TOUBFVJK13         19         96\n",
      "4   IARTAFFX51         20        128\n",
      "..         ...        ...        ...\n",
      "95  WNPNJEVG54         14         85\n",
      "96  ROQBIJSP98          4         94\n",
      "97  GZMZOMHR64          3        169\n",
      "98  WHSVDEON49          2        100\n",
      "99  UVWIZKBU76          9        101\n",
      "\n",
      "[100 rows x 3 columns]\n"
     ]
    }
   ],
   "source": [
    "num_tareas = 100  \n",
    "\n",
    "\n",
    "def generate_task_id():\n",
    "    return faker.unique.bothify(text='????????##').upper()  # Utiliza caracteres aleatorios y números\n",
    "\n",
    "data = {\n",
    "    \"id_tarea\": [generate_task_id() for _ in range(num_tareas)],\n",
    "    \"min_horas\": [random.randint(1, 20) for _ in range(num_tareas)],\n",
    "    \"max_horas\": [random.randint(60, 200) for _ in range(num_tareas)]\n",
    "}\n",
    "\n",
    "df_tarea = pd.DataFrame(data)\n",
    "\n",
    "\n",
    "print(df_tarea)"
   ]
  },
  {
   "cell_type": "markdown",
   "id": "f9ab4af4-6ab4-485a-9d42-31ab197859e5",
   "metadata": {},
   "source": [
    "## VOLUNTARIOS"
   ]
  },
  {
   "cell_type": "code",
   "execution_count": 28,
   "id": "0987ef42-2000-461e-9b82-52ff8d6e7f2a",
   "metadata": {},
   "outputs": [
    {
     "name": "stdout",
     "output_type": "stream",
     "text": [
      "      id_voluntario     nombre apellido                       email  \\\n",
      "0                 1   Herminio   Molins        wbaquero@example.com   \n",
      "1                 2     Eligia   Medina    adrianamulet@example.com   \n",
      "2                 3      Nydia     Caro        silvio50@example.net   \n",
      "3                 4  Gertrudis   Amador       ricarda16@example.net   \n",
      "4                 5     Aitana  Almeida         xmorera@example.org   \n",
      "...             ...        ...      ...                         ...   \n",
      "9995           9996     Jenaro     Sola  porfiriocriado@example.com   \n",
      "9996           9997     África      Tur     casasarturo@example.net   \n",
      "9997           9998   Eutropio   Aragón         gayaluz@example.net   \n",
      "9998           9999    Liliana   Castro        rafael40@example.net   \n",
      "9999          10000   Verónica   Martin        sergio20@example.com   \n",
      "\n",
      "              telefono fecha_nacimiento    id_tarea  horas_aportadas  \\\n",
      "0         +34877691397       1978-01-11  BKPYNNGJ95           144.17   \n",
      "1     +34 941 92 78 72       1993-07-03  KYMYXXBG12           134.12   \n",
      "2      +34 922 068 691       1996-03-10  KTTFAWOY98            29.80   \n",
      "3      +34712 81 24 44       1986-12-05  BYTBCRZC48            82.55   \n",
      "4       +34949 184 937       1957-10-13  KYMYXXBG12           109.70   \n",
      "...                ...              ...         ...              ...   \n",
      "9995     +34 979917582       1971-09-14  ROQBIJSP98            30.24   \n",
      "9996     +34 988551487       2006-09-26  KTTFAWOY98            19.28   \n",
      "9997  +34 939 28 09 14       2003-05-09  WNPNJEVG54            12.01   \n",
      "9998   +34 973 021 305       1965-12-02  EVUNIPCL31            93.22   \n",
      "9999      +34822880725       1981-03-05  VNUVKIZK02           173.15   \n",
      "\n",
      "      porcentaje  id_institucion  id_coordinador  \n",
      "0           0.57             789            4511  \n",
      "1           0.59             707            1742  \n",
      "2           0.47             165            2000  \n",
      "3           0.40             274            1352  \n",
      "4           0.14             902            7267  \n",
      "...          ...             ...             ...  \n",
      "9995        0.36             132            8489  \n",
      "9996        0.21             666            3052  \n",
      "9997        0.81             805            1564  \n",
      "9998        0.96             502            2392  \n",
      "9999        0.36             674            9544  \n",
      "\n",
      "[10000 rows x 11 columns]\n"
     ]
    }
   ],
   "source": [
    "num_voluntarios = 10000\n",
    "\n",
    "data = {\n",
    "    \"id_voluntario\": list(range(1, num_voluntarios + 1)),\n",
    "    \"nombre\": [faker.first_name() for _ in range(num_voluntarios)],\n",
    "    \"apellido\": [faker.last_name() for _ in range(num_voluntarios)],\n",
    "    \"email\": [faker.email() for _ in range(num_voluntarios)],\n",
    "    \"telefono\": [faker.phone_number() for _ in range(num_voluntarios)],\n",
    "    \"fecha_nacimiento\": [faker.date_of_birth(minimum_age=15, maximum_age=70) for _ in range(num_voluntarios)],\n",
    "    \"id_tarea\": [random.choice(df_tarea['id_tarea']) for _ in range(num_voluntarios)],\n",
    "    \"horas_aportadas\": [round(random.uniform(1, 200), 2) for _ in range(num_voluntarios)],\n",
    "    \"porcentaje\": [round(random.uniform(0, 1), 2) for _ in range(num_voluntarios)],\n",
    "    \"id_institucion\": [random.choice(df_institucion['id_institucion']) for _ in range(num_voluntarios)],\n",
    "    \"id_coordinador\": [random.randint(1, 9999) for _ in range(num_voluntarios)]\n",
    "}\n",
    "\n",
    "df_voluntario = pd.DataFrame(data)\n",
    "\n",
    "\n",
    "print(df_voluntario)"
   ]
  },
  {
   "cell_type": "markdown",
   "id": "2ceab78c-343e-48d0-9c9a-5a369f4f9f6b",
   "metadata": {},
   "source": [
    "## HISTORICO"
   ]
  },
  {
   "cell_type": "code",
   "execution_count": 29,
   "id": "3da26aa3-8a60-4014-b142-1eaa46d8bac2",
   "metadata": {},
   "outputs": [
    {
     "name": "stdout",
     "output_type": "stream",
     "text": [
      "      nro_voluntario fecha_inicio   fecha_fin    id_tarea  id_institucion\n",
      "0                  1   2012-10-21  2013-10-21  BKPYNNGJ95             789\n",
      "1                  2   2004-12-18  2008-12-17  KYMYXXBG12             707\n",
      "2                  3   2003-05-16  2006-05-15  KTTFAWOY98             165\n",
      "3                  4   2003-07-12  2006-07-11  BYTBCRZC48             274\n",
      "4                  5   2004-05-12  2005-05-12  KYMYXXBG12             902\n",
      "...              ...          ...         ...         ...             ...\n",
      "9995            9996   2010-03-24  2013-03-23  ROQBIJSP98             132\n",
      "9996            9997   1996-08-10  1999-08-10  KTTFAWOY98             666\n",
      "9997            9998   2015-02-23  2018-02-22  WNPNJEVG54             805\n",
      "9998            9999   1995-01-07  1999-01-06  EVUNIPCL31             502\n",
      "9999           10000   1996-04-24  2000-04-23  VNUVKIZK02             674\n",
      "\n",
      "[10000 rows x 5 columns]\n"
     ]
    }
   ],
   "source": [
    "columnas_seleccionadas = [\"id_voluntario\", \"id_tarea\", \"id_institucion\"]\n",
    "df_staged = df_voluntario[columnas_seleccionadas].copy()\n",
    "\n",
    "num_filas = len(df_staged) \n",
    "\n",
    "data = {\n",
    "    \"nro_voluntario\": df_staged[\"id_voluntario\"],\n",
    "    \"fecha_inicio\": [datetime.date(random.randint(1990, 2020), random.randint(1, 12), random.randint(1, 28)) for _ in range(num_filas)],\n",
    "    \"fecha_fin\": [],\n",
    "    \"id_tarea\": df_staged[\"id_tarea\"],\n",
    "    \"id_institucion\": df_staged[\"id_institucion\"]\n",
    "}\n",
    "\n",
    "\n",
    "for i in range(num_filas):\n",
    "    fecha_inicio = data[\"fecha_inicio\"][i]\n",
    "    delta_years = random.randint(1, 4)\n",
    "    fecha_fin = fecha_inicio + datetime.timedelta(days=delta_years * 365)\n",
    "    data[\"fecha_fin\"].append(fecha_fin)\n",
    "\n",
    "df_historico = pd.DataFrame(data)\n",
    "\n",
    "\n",
    "print(df_historico)"
   ]
  },
  {
   "cell_type": "markdown",
   "id": "f9de3883-f90d-49cf-8d78-28f112403b62",
   "metadata": {},
   "source": [
    "## GUARDAR CSVS"
   ]
  },
  {
   "cell_type": "code",
   "execution_count": 42,
   "id": "15d25049-c877-4b05-b6f0-8e1213f6cab7",
   "metadata": {},
   "outputs": [
    {
     "name": "stdout",
     "output_type": "stream",
     "text": [
      "Nuevo archivo CSV 'df_historico.csv' creado correctamente.\n",
      "Nuevo archivo CSV 'df_continentes.csv' creado correctamente.\n",
      "Nuevo archivo CSV 'df_paises.csv' creado correctamente.\n",
      "Nuevo archivo CSV 'df_direccion.csv' creado correctamente.\n",
      "Nuevo archivo CSV 'df_institucion.csv' creado correctamente.\n",
      "Nuevo archivo CSV 'df_tarea.csv' creado correctamente.\n",
      "Nuevo archivo CSV 'df_voluntario.csv' creado correctamente.\n"
     ]
    }
   ],
   "source": [
    "dfs = [df_continentes, df_paises, df_direccion, df_institucion, df_tarea, df_voluntario, df_historico]\n",
    "rutas = [\"df_continentes.csv\", \"df_paises.csv\", \"df_direccion.csv\", \"df_institucion.csv\", \"df_tarea.csv\", \"df_voluntario.csv\",\"df_historico.csv\"]\n",
    "\n",
    "for d in range(len(rutas)):\n",
    "    ruta_csv = rutas[d-1]\n",
    "    df = dfs[d-1]\n",
    "    if os.path.exists(ruta_csv):\n",
    "        df.to_csv(ruta_csv, index=False)\n",
    "        print(f\"Archivo CSV existente '{ruta_csv}' sobrescrito correctamente.\")\n",
    "    else:\n",
    "        df.to_csv(ruta_csv, index=False)\n",
    "        print(f\"Nuevo archivo CSV '{ruta_csv}' creado correctamente.\")"
   ]
  },
  {
   "cell_type": "code",
   "execution_count": null,
   "id": "cd078a81-6cde-4ef0-b5b8-848ce64134e5",
   "metadata": {},
   "outputs": [],
   "source": []
  }
 ],
 "metadata": {
  "kernelspec": {
   "display_name": "Python 3 (ipykernel)",
   "language": "python",
   "name": "python3"
  },
  "language_info": {
   "codemirror_mode": {
    "name": "ipython",
    "version": 3
   },
   "file_extension": ".py",
   "mimetype": "text/x-python",
   "name": "python",
   "nbconvert_exporter": "python",
   "pygments_lexer": "ipython3",
   "version": "3.11.5"
  }
 },
 "nbformat": 4,
 "nbformat_minor": 5
}
